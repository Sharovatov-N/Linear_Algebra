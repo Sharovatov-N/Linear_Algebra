{
 "cells": [
  {
   "cell_type": "markdown",
   "metadata": {},
   "source": [
    "## Урок 1"
   ]
  },
  {
   "cell_type": "markdown",
   "metadata": {},
   "source": [
    "### Практическое задание - часть 1"
   ]
  },
  {
   "cell_type": "markdown",
   "metadata": {},
   "source": [
    "__1.__ Исследовать на линейную зависимость:\n",
    "$$f_{1}(x)=e^{x}, f_{2}(x)=1, f_{3}(x)=x+1, f_{4}(x)=x-e^{x}.$$"
   ]
  },
  {
   "cell_type": "markdown",
   "metadata": {},
   "source": [
    "Заметим, что $f_{4}(x)=(f_3(x)-f_2(x))-f_1(x)$, то есть вектор $f_4(x)$ — линейная комбинация векторов $f_3(x)$, $f_2(x)$ и $f_1(x)$, из чего можно сделать вывод, что $f_{1}(x)=e^{x}, f_{2}(x)=1, f_{3}(x)=x+1, f_{4}(x)=x-e^{x}$ линейно зависимы."
   ]
  },
  {
   "cell_type": "markdown",
   "metadata": {},
   "source": [
    "__2.__ Исследовать на линейную зависимость:\n",
    "$$f_{1}(x)=2, f_{2}(x)=x, f_{3}(x)=x^{2}, f_{4}(x)=(x+1)^{2}.$$"
   ]
  },
  {
   "cell_type": "markdown",
   "metadata": {},
   "source": [
    "$$f_{4}(x)=(x+1)^{2}=x^2+2x+1$$\n",
    "/\n",
    "Заметим, что $f_{4}(x)=f_3(x)+2f_2(x)+\\frac{1}{2}f_1(x)$, то есть вектор $f_4(x)$ — линейная комбинация векторов $f_3(x)$, $f_2(x)$ и $f_1(x)$, из чего можно сделать вывод, что $f_{1}(x)=2, f_{2}(x)=x, f_{3}(x)=x^{2}, f_{4}(x)=(x+1)^{2}$ линейно зависимы."
   ]
  },
  {
   "cell_type": "markdown",
   "metadata": {},
   "source": [
    "__3.__ Найти координаты вектора $x = (2, 3, 5)\\in \\mathbb{R}^{3}$ в базисе $b_{1}=(0, 0, 10)$, $b_{2}=(2, 0, 0)$, $b_{3}=(0, 1, 0)$."
   ]
  },
  {
   "cell_type": "markdown",
   "metadata": {},
   "source": [
    "$$x=(2, 3, 5)_{ei}=(2,0,0)+(0, 3, 0)+(0, 0, 5)=\\frac{1}{2}\\cdot b_1+b_2+3\\cdot b_3=\\left(\\frac{1}{2},1,3\\right)_{bi}$$"
   ]
  },
  {
   "cell_type": "markdown",
   "metadata": {},
   "source": [
    "__4.__ Найти координаты вектора $3x^{2}-2x+2\\in\\mathbb{R}^{3}[x]$:\n",
    "\n",
    "   а) в базисе $1$, $x$, $x^{2}$:$$(2,-2,3)$$\n",
    "\n",
    "   б) в базисе $x^{2}$, $x-1$, $1$:$$(3,-3,2)$$"
   ]
  },
  {
   "cell_type": "markdown",
   "metadata": {},
   "source": [
    "__5.__ Установить, является ли линейным подпространством:\n",
    "\n",
    "а) совокупность всех векторов трехмерного пространства, у которых по крайней мере одна из первых двух координат равна нулю:\n",
    "\n",
    "множество всех векторов вида$(0, a, b)$\n",
    "$$(0, a, b)+(0, c, d) = (0, a+c, b+d),$$ / $$\\alpha\\cdot (0, a, b) = (0, \\alpha a, \\alpha b).$$\n",
    "множество всех векторов вида$(a, 0, b)$\n",
    "$$(a, 0, b)+(c, 0, d) = (a+c, 0, b+d),$$ / $$\\alpha\\cdot (a, 0, b) = (\\alpha a, 0, \\alpha b).$$\n",
    "множество всех векторов вида$(0, 0, b)$\n",
    "$$(0, 0, b)+(0, 0, d) = (0, 0, b+d),$$ / $$\\alpha\\cdot (0, 0, b) = (0, 0, \\alpha b).$$\n",
    "\n",
    "Полученные векторы также принадлежат указанному в задании множеству всех векторов вида $(0, a, b)$, $(a, 0, b)$, $(0, 0, b)$ то есть данное множество является подпространством линейного пространства $\\mathbb{R}^{3}$.\n",
    "\n",
    "б) все векторы, являющиеся линейными комбинациями данных векторов $\\{u_{1}, u_{2}, ..., u_{n}\\}$.\n",
    "\n",
    "Так как линейное подпространство содержит все возможные линейные комбинации своих векторов, то данное множество является подпространством линейного пространства $\\mathbb{R}^{3}$."
   ]
  },
  {
   "cell_type": "markdown",
   "metadata": {},
   "source": [
    "### Практическое задание - часть 2"
   ]
  },
  {
   "cell_type": "markdown",
   "metadata": {},
   "source": [
    "__1.__ Найти скалярное произведение векторов $x, y \\in \\mathbb{R}$:<br>\n",
    "а) $x=(0,-3, 6),~y=(-4, 7, 9);$\n",
    "$$(x,y)=0\\cdot(-4)+(-3)\\cdot7+6\\cdot9=0 - 21 + 54=33.$$\n",
    "б) $x=(7, -4, 0, 1),~y=(-3, 1, 11, 2).$\n",
    "$$(x,y)=7\\cdot(-3)+(-4)\\cdot1+0\\cdot11+1\\cdot2=-21 - 4 + 0 + 2=-23.$$"
   ]
  },
  {
   "cell_type": "markdown",
   "metadata": {},
   "source": [
    "__2.__ Найти нормы векторов $(4, 2, 4)$ и $(12, 3, 4)$ и угол между ними."
   ]
  },
  {
   "cell_type": "code",
   "execution_count": 1,
   "metadata": {},
   "outputs": [],
   "source": [
    "import numpy as np\n",
    "from numpy.linalg import norm"
   ]
  },
  {
   "cell_type": "code",
   "execution_count": 2,
   "metadata": {},
   "outputs": [],
   "source": [
    "x1 = np.array([4, 2, 4])\n",
    "x2 = np.array([12, 3, 4])"
   ]
  },
  {
   "cell_type": "markdown",
   "metadata": {},
   "source": [
    "$\\ell_{1}$ норма (_манхэттенская норма_, или _манхэттенское расстояние_)\n",
    "\n",
    "$$\\left\\|x\\right\\|_{1} = \\sum_{i}|x_{i}|;$$\n",
    "/\n",
    "$$\\left\\|x_1\\right\\|_{1} = |4|+|2|+|4|=10$$\n",
    "/\n",
    "$$\\left\\|x_2\\right\\|_{1} = |12|+|3|+|4|=19$$"
   ]
  },
  {
   "cell_type": "code",
   "execution_count": 3,
   "metadata": {},
   "outputs": [
    {
     "name": "stdout",
     "output_type": "stream",
     "text": [
      "l1 норма вектора x1:\n",
      "10.0\n",
      "l1 норма вектора x2:\n",
      "19.0\n"
     ]
    }
   ],
   "source": [
    "print(f'l1 норма вектора x1:\\n{norm(x1, ord=1)}')\n",
    "print(f'l1 норма вектора x2:\\n{norm(x2, ord=1)}')"
   ]
  },
  {
   "cell_type": "markdown",
   "metadata": {},
   "source": [
    "$\\ell_{2}$ норма (_евклидова норма_, наиболее часто используемая)\n",
    "\n",
    "$$\\left\\|x\\right\\|_{2} = \\sqrt{\\sum_{i}|x_{i}|^{2}}.$$\n",
    "/\n",
    "$$\\left\\|x_1\\right\\|_{2} = \\sqrt{|4|^2+|2|^2+|4|^2}=\\sqrt{36}=6$$\n",
    "/\n",
    "$$\\left\\|x_2\\right\\|_{2} = \\sqrt{|12|^2+|3|^2+|4|^2}=\\sqrt{169}=13$$"
   ]
  },
  {
   "cell_type": "code",
   "execution_count": 4,
   "metadata": {},
   "outputs": [
    {
     "name": "stdout",
     "output_type": "stream",
     "text": [
      "l2 норма вектора x1:\n",
      "6.0\n",
      "l2 норма вектора x2:\n",
      "13.0\n"
     ]
    }
   ],
   "source": [
    "print(f'l2 норма вектора x1:\\n{norm(x1, ord=2)}')\n",
    "print(f'l2 норма вектора x2:\\n{norm(x2)}')"
   ]
  },
  {
   "cell_type": "markdown",
   "metadata": {},
   "source": [
    "$$cos\\varphi = \\frac{(x,y)}{\\left \\|x\\right \\|\\cdot\\left \\|y\\right \\|}$$\n",
    "/\n",
    "$$cos\\varphi = \\frac{4\\cdot12+2\\cdot3+4\\cdot4}{\\sqrt{4^{2}+2^{2}+4^{2}}\\cdot \\sqrt{12^{2}+3^{2}+4^{2}}}=\\frac{70}{78}\\approx 0.9$$"
   ]
  },
  {
   "cell_type": "code",
   "execution_count": 5,
   "metadata": {},
   "outputs": [
    {
     "name": "stdout",
     "output_type": "stream",
     "text": [
      "Косинус угла между x1 и x2: 0.90\n"
     ]
    }
   ],
   "source": [
    "cos_phi = np.dot(x1, x2) / (norm(x1) * norm(x2))\n",
    "print(f'Косинус угла между x1 и x2: {cos_phi:.2f}')"
   ]
  },
  {
   "cell_type": "markdown",
   "metadata": {},
   "source": [
    "__3.__ Будет ли линейное пространство евклидовым, если за скалярное произведение принять:<br>\n",
    "а) произведение длин векторов;<br>\n",
    "б) утроенное обычное скалярное произведение векторов? "
   ]
  },
  {
   "cell_type": "markdown",
   "metadata": {},
   "source": [
    "а) Будет линейное пространство евклидовым <br>\n",
    "б) Будет линейное пространство евклидовым"
   ]
  },
  {
   "cell_type": "markdown",
   "metadata": {},
   "source": [
    "__4.__ Какие из нижеперечисленных векторов образуют ортонормированный базис в линейном пространстве $\\mathbb{R}^{3}$:<br>\n",
    "а) $(1,0,0),(0,0,1)$ - образуют ортонормированный базис <br>\n",
    "б) $(1/\\sqrt{2},-1/\\sqrt{2},0),(1/\\sqrt{2},1/\\sqrt{2},0), (0,0,1);$ - не образуют ортонормированный базис<br>\n",
    "в) $(1/2, -1/2, 0), (0, 1/2, 1/2), (0,0,1);$ - не образуют ортонормированный базис<br>\n",
    "г) $(1,0,0),(0,1,0),(0,0,1)$ - образуют ортонормированный базис"
   ]
  },
  {
   "cell_type": "code",
   "execution_count": null,
   "metadata": {},
   "outputs": [],
   "source": []
  }
 ],
 "metadata": {
  "kernelspec": {
   "display_name": "Python 3",
   "language": "python",
   "name": "python3"
  },
  "language_info": {
   "codemirror_mode": {
    "name": "ipython",
    "version": 3
   },
   "file_extension": ".py",
   "mimetype": "text/x-python",
   "name": "python",
   "nbconvert_exporter": "python",
   "pygments_lexer": "ipython3",
   "version": "3.8.3"
  }
 },
 "nbformat": 4,
 "nbformat_minor": 4
}
